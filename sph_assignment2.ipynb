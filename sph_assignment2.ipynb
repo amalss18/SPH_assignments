{
 "cells": [
  {
   "cell_type": "markdown",
   "metadata": {},
   "source": [
    "# Assignment 2\n",
    "\n",
    "Solve a simple problem of the linear advection equation in a periodic domain.  If the velocity is u, then\n",
    "\n",
    "$$ \\frac{\\partial u}{\\partial t} + a \\frac{\\partial u}{\\partial x} = 0$$\n",
    "\n",
    "Where $a>0$ is a constant, say 1.  Note that this problem may be rewritten in a Lagrangian sense as:\n",
    "\n",
    "$$ \\frac{D u}{D t} = 0$$, and\n",
    "$$ \\frac{D x}{D t} = a$$\n",
    "\n",
    "Simulate this for a periodic domain from [-1, 1] with the initial condition as $u(x,t=0) = sin(x)$.\n",
    "\n",
    "Use the exact solution to verify your solution after say 4 seconds, set $a=1$.  To simulate periodicity, if a particle moves such that $x > 1$, then change $x$ such that $x = x - 2$.  Use a simple Euler integrator or use a Runge-Kutta second order integrator.\n",
    "\n",
    "\n"
   ]
  },
  {
   "cell_type": "code",
   "execution_count": 24,
   "metadata": {},
   "outputs": [],
   "source": [
    "#%matplotlib inline \n",
    "import numpy as np\n",
    "import matplotlib.pyplot as plt\n",
    "\n",
    "from ipywidgets import interact, interactive, fixed, interact_manual\n",
    "import ipywidgets as widgets\n",
    "import time"
   ]
  },
  {
   "cell_type": "code",
   "execution_count": 25,
   "metadata": {},
   "outputs": [],
   "source": [
    "def create_particle(dx,xmin,xmax):\n",
    "    x = np.arange(xmin,xmax+dx,dx)\n",
    "    u = [np.sin(np.pi*t) for t in x]\n",
    "    u = np.array(u)\n",
    "    return x,u"
   ]
  },
  {
   "cell_type": "code",
   "execution_count": 26,
   "metadata": {},
   "outputs": [],
   "source": [
    "def x_calc(x_t,u_t,dt):\n",
    "    a = 1 \n",
    "    x_updated = []\n",
    "    for i in range(len(x_t)):\n",
    "        x_new = x_t[i]+a*dt\n",
    "        if x_new > 1:\n",
    "            x_new = x_new - 2 \n",
    "        x_updated.append(x_new)\n",
    "    return x_updated\n",
    "\n",
    "def u_calc(x_t,u_t,dt):\n",
    "    return u_t \n"
   ]
  },
  {
   "cell_type": "code",
   "execution_count": 27,
   "metadata": {},
   "outputs": [],
   "source": [
    "def integrate(x,u,dt,tf):\n",
    "    t = np.arange(dt,tf+dt,dt)\n",
    "    x_t, u_t = [], []\n",
    "    x_t.append(x)\n",
    "    u_t.append(u)\n",
    "    for n in range(len(t)):\n",
    "        x_t.append(x_calc(x_t[n],u_t[n],dt))\n",
    "        u_t.append(u_calc(x_t[n],u_t[n],dt))\n",
    "        \n",
    "    return x_t, u_t, t "
   ]
  },
  {
   "cell_type": "code",
   "execution_count": 28,
   "metadata": {},
   "outputs": [
    {
     "data": {
      "application/vnd.jupyter.widget-view+json": {
       "model_id": "55e0c848a7ee40a4b3ecdac1b9e7665c",
       "version_major": 2,
       "version_minor": 0
      },
      "text/plain": [
       "interactive(children=(IntSlider(value=19, description='n', max=39), Output()), _dom_classes=('widget-interact'…"
      ]
     },
     "metadata": {},
     "output_type": "display_data"
    },
    {
     "data": {
      "text/plain": [
       "<function __main__.show(n)>"
      ]
     },
     "execution_count": 28,
     "metadata": {},
     "output_type": "execute_result"
    }
   ],
   "source": [
    "tf = 4\n",
    "dt = 0.1\n",
    "xmin = -1\n",
    "xmax = 1\n",
    "dx = 0.05\n",
    "x, u = create_particle(dx,xmin,xmax)\n",
    "x_t, u_t, t = integrate(x,u,dt,tf)\n",
    "\n",
    "def show(n):\n",
    "    plt.scatter(x_t[n],u_t[n])\n",
    "    print(\"t=\",t[n])\n",
    "\n",
    "interact(show,n=(0,len(t)-1))"
   ]
  },
  {
   "cell_type": "code",
   "execution_count": null,
   "metadata": {},
   "outputs": [],
   "source": []
  },
  {
   "cell_type": "code",
   "execution_count": null,
   "metadata": {},
   "outputs": [],
   "source": []
  },
  {
   "cell_type": "code",
   "execution_count": null,
   "metadata": {},
   "outputs": [],
   "source": []
  }
 ],
 "metadata": {
  "kernelspec": {
   "display_name": "Python 3",
   "language": "python",
   "name": "python3"
  },
  "language_info": {
   "codemirror_mode": {
    "name": "ipython",
    "version": 3
   },
   "file_extension": ".py",
   "mimetype": "text/x-python",
   "name": "python",
   "nbconvert_exporter": "python",
   "pygments_lexer": "ipython3",
   "version": "3.6.8"
  }
 },
 "nbformat": 4,
 "nbformat_minor": 2
}
